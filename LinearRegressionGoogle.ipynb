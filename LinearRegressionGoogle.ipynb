{
  "nbformat": 4,
  "nbformat_minor": 0,
  "metadata": {
    "colab": {
      "name": "LinearRegressionGoogle.ipynb",
      "provenance": [],
      "collapsed_sections": [],
      "authorship_tag": "ABX9TyOYNZZgcZulViHd3ZkiAIQ+",
      "include_colab_link": true
    },
    "kernelspec": {
      "name": "python3",
      "display_name": "Python 3"
    }
  },
  "cells": [
    {
      "cell_type": "markdown",
      "metadata": {
        "id": "view-in-github",
        "colab_type": "text"
      },
      "source": [
        "<a href=\"https://colab.research.google.com/github/SundarML/Machine-Learning/blob/master/LinearRegressionGoogle.ipynb\" target=\"_parent\"><img src=\"https://colab.research.google.com/assets/colab-badge.svg\" alt=\"Open In Colab\"/></a>"
      ]
    },
    {
      "cell_type": "markdown",
      "metadata": {
        "id": "DCzSDxdTgz7h",
        "colab_type": "text"
      },
      "source": [
        "Linear Regression - Gradient Descent Method - 14/Apr/2020\n"
      ]
    },
    {
      "cell_type": "code",
      "metadata": {
        "id": "iA5AvFTugzdz",
        "colab_type": "code",
        "colab": {}
      },
      "source": [
        ""
      ],
      "execution_count": 0,
      "outputs": []
    },
    {
      "cell_type": "code",
      "metadata": {
        "id": "4Wz2uZm1TyL-",
        "colab_type": "code",
        "colab": {}
      },
      "source": [
        "import pandas as pd\n",
        "import matplotlib.pyplot as plt\n",
        "import tensorflow as tf\n",
        "import numpy as np\n"
      ],
      "execution_count": 0,
      "outputs": []
    },
    {
      "cell_type": "code",
      "metadata": {
        "id": "_3751hrUGijQ",
        "colab_type": "code",
        "colab": {}
      },
      "source": [
        "from sklearn import datasets\n",
        "x, y = datasets.load_boston(return_X_y=True)\n",
        "X = x[:,2:3].reshape(506,)"
      ],
      "execution_count": 0,
      "outputs": []
    },
    {
      "cell_type": "code",
      "metadata": {
        "id": "eYfUVW-HHVNF",
        "colab_type": "code",
        "colab": {}
      },
      "source": [
        "\n"
      ],
      "execution_count": 0,
      "outputs": []
    },
    {
      "cell_type": "code",
      "metadata": {
        "id": "fUGzMRqlU16b",
        "colab_type": "code",
        "outputId": "b0249756-7abf-41ac-d795-7a736fab9bc4",
        "colab": {
          "base_uri": "https://localhost:8080/",
          "height": 35
        }
      },
      "source": [
        "def build_model(my_learning_rate):\n",
        "  model = tf.keras.models.Sequential()\n",
        "  model.add(tf.keras.layers.Dense(units=1, input_shape=(1,)))\n",
        "  model.compile(optimizer=tf.keras.optimizers.RMSprop(learning_rate=my_learning_rate), loss='mean_squared_error', \n",
        "                metrics=[tf.keras.metrics.RootMeanSquaredError()])\n",
        "  return model\n",
        "def train_model(model, feature, label, epochs, batch_size):\n",
        "  history = model.fit(x=feature, y=label, batch_size=None, epochs=epochs)\n",
        "  training_weights = model.get_weights()[0]\n",
        "  training_bias = model.get_weights()[1]\n",
        "  epochs = history.epoch\n",
        "  hist = pd.DataFrame(history.history)\n",
        "  rmse = hist['root_mean_squared_error']\n",
        "  \n",
        "\n",
        "  return training_weights, training_bias, epochs, rmse, hist\n",
        "print('Defined creat_model train_model')     "
      ],
      "execution_count": 0,
      "outputs": [
        {
          "output_type": "stream",
          "text": [
            "Defined creat_model train_model\n"
          ],
          "name": "stdout"
        }
      ]
    },
    {
      "cell_type": "code",
      "metadata": {
        "id": "cb7Ym04kVWgr",
        "colab_type": "code",
        "colab": {}
      },
      "source": [
        "def plot_model(my_feature, training_bias, training_weights, my_label):\n",
        "  x0 = 0\n",
        "  x1 = my_feature[-1]\n",
        "  y0 = training_bias\n",
        "  y1 = training_bias + (x1*training_weights)\n",
        "  plt.scatter(my_feature, my_label)\n",
        "  plt.plot([x0,x1], [y0,y1], c='r')\n",
        "def plot_loss_curve(epochs, rmse):\n",
        "  plt.figure()\n",
        "  plt.plot(epochs, rmse, c='orange')\n",
        "  plt.xlabel('Epochs')\n",
        "  plt.ylabel('RMSE')\n",
        "  plt.ylim(rmse.min()*0.95, rmse.max())"
      ],
      "execution_count": 0,
      "outputs": []
    },
    {
      "cell_type": "code",
      "metadata": {
        "id": "pM28KqWtit2v",
        "colab_type": "code",
        "colab": {}
      },
      "source": [
        "my_feature = np.array([1.0, 2.0,  3.0,  4.0,  5.0,  6.0,  7.0,  8.0,  9.0, 10.0, 11.0, 12.0])\n",
        "my_label   = np.array([5.0, 8.8,  9.6, 14.2, 18.8, 19.5, 21.4, 26.8, 28.9, 32.0, 33.8, 38.2])"
      ],
      "execution_count": 0,
      "outputs": []
    },
    {
      "cell_type": "code",
      "metadata": {
        "id": "DPXaXTDnIzUp",
        "colab_type": "code",
        "outputId": "70221c14-5366-4c18-9d61-1bdc3847d3fe",
        "colab": {
          "base_uri": "https://localhost:8080/",
          "height": 35
        }
      },
      "source": [
        "my_feature[-1]"
      ],
      "execution_count": 0,
      "outputs": [
        {
          "output_type": "execute_result",
          "data": {
            "text/plain": [
              "12.0"
            ]
          },
          "metadata": {
            "tags": []
          },
          "execution_count": 24
        }
      ]
    },
    {
      "cell_type": "code",
      "metadata": {
        "id": "ABoMB4jjivar",
        "colab_type": "code",
        "outputId": "20815f06-ae19-49f9-f671-be5b09a4dd8a",
        "colab": {
          "base_uri": "https://localhost:8080/",
          "height": 1000
        }
      },
      "source": [
        "learning_rate = 0.14\n",
        "epochs = 70\n",
        "my_batch_size=1\n",
        "\n",
        "my_model = build_model(learning_rate)\n",
        "training_weights, training_bias, epochs, rmse, df_hist = train_model(my_model,my_feature,my_label,epochs,my_batch_size)\n",
        "plot_model(my_feature, training_bias, training_weights, my_label)\n",
        "plot_loss_curve(epochs, rmse)"
      ],
      "execution_count": 0,
      "outputs": [
        {
          "output_type": "stream",
          "text": [
            "Epoch 1/70\n",
            "1/1 [==============================] - 0s 2ms/step - loss: 1274.2144 - root_mean_squared_error: 35.6961\n",
            "Epoch 2/70\n",
            "1/1 [==============================] - 0s 1ms/step - loss: 1026.8134 - root_mean_squared_error: 32.0439\n",
            "Epoch 3/70\n",
            "1/1 [==============================] - 0s 886us/step - loss: 872.2797 - root_mean_squared_error: 29.5344\n",
            "Epoch 4/70\n",
            "1/1 [==============================] - 0s 2ms/step - loss: 756.6492 - root_mean_squared_error: 27.5073\n",
            "Epoch 5/70\n",
            "1/1 [==============================] - 0s 2ms/step - loss: 663.5981 - root_mean_squared_error: 25.7604\n",
            "Epoch 6/70\n",
            "1/1 [==============================] - 0s 2ms/step - loss: 585.7225 - root_mean_squared_error: 24.2017\n",
            "Epoch 7/70\n",
            "1/1 [==============================] - 0s 2ms/step - loss: 518.9532 - root_mean_squared_error: 22.7805\n",
            "Epoch 8/70\n",
            "1/1 [==============================] - 0s 2ms/step - loss: 460.7801 - root_mean_squared_error: 21.4658\n",
            "Epoch 9/70\n",
            "1/1 [==============================] - 0s 1ms/step - loss: 409.5297 - root_mean_squared_error: 20.2368\n",
            "Epoch 10/70\n",
            "1/1 [==============================] - 0s 1ms/step - loss: 364.0219 - root_mean_squared_error: 19.0794\n",
            "Epoch 11/70\n",
            "1/1 [==============================] - 0s 2ms/step - loss: 323.3870 - root_mean_squared_error: 17.9830\n",
            "Epoch 12/70\n",
            "1/1 [==============================] - 0s 1ms/step - loss: 286.9619 - root_mean_squared_error: 16.9400\n",
            "Epoch 13/70\n",
            "1/1 [==============================] - 0s 1ms/step - loss: 254.2262 - root_mean_squared_error: 15.9445\n",
            "Epoch 14/70\n",
            "1/1 [==============================] - 0s 1ms/step - loss: 224.7612 - root_mean_squared_error: 14.9920\n",
            "Epoch 15/70\n",
            "1/1 [==============================] - 0s 1ms/step - loss: 198.2227 - root_mean_squared_error: 14.0792\n",
            "Epoch 16/70\n",
            "1/1 [==============================] - 0s 1ms/step - loss: 174.3224 - root_mean_squared_error: 13.2031\n",
            "Epoch 17/70\n",
            "1/1 [==============================] - 0s 2ms/step - loss: 152.8146 - root_mean_squared_error: 12.3618\n",
            "Epoch 18/70\n",
            "1/1 [==============================] - 0s 1ms/step - loss: 133.4861 - root_mean_squared_error: 11.5536\n",
            "Epoch 19/70\n",
            "1/1 [==============================] - 0s 1ms/step - loss: 116.1500 - root_mean_squared_error: 10.7773\n",
            "Epoch 20/70\n",
            "1/1 [==============================] - 0s 2ms/step - loss: 100.6394 - root_mean_squared_error: 10.0319\n",
            "Epoch 21/70\n",
            "1/1 [==============================] - 0s 2ms/step - loss: 86.8040 - root_mean_squared_error: 9.3169\n",
            "Epoch 22/70\n",
            "1/1 [==============================] - 0s 2ms/step - loss: 74.5064 - root_mean_squared_error: 8.6317\n",
            "Epoch 23/70\n",
            "1/1 [==============================] - 0s 1ms/step - loss: 63.6203 - root_mean_squared_error: 7.9762\n",
            "Epoch 24/70\n",
            "1/1 [==============================] - 0s 1ms/step - loss: 54.0280 - root_mean_squared_error: 7.3504\n",
            "Epoch 25/70\n",
            "1/1 [==============================] - 0s 2ms/step - loss: 45.6195 - root_mean_squared_error: 6.7542\n",
            "Epoch 26/70\n",
            "1/1 [==============================] - 0s 2ms/step - loss: 38.2912 - root_mean_squared_error: 6.1880\n",
            "Epoch 27/70\n",
            "1/1 [==============================] - 0s 1ms/step - loss: 31.9449 - root_mean_squared_error: 5.6520\n",
            "Epoch 28/70\n",
            "1/1 [==============================] - 0s 2ms/step - loss: 26.4876 - root_mean_squared_error: 5.1466\n",
            "Epoch 29/70\n",
            "1/1 [==============================] - 0s 2ms/step - loss: 21.8307 - root_mean_squared_error: 4.6723\n",
            "Epoch 30/70\n",
            "1/1 [==============================] - 0s 1ms/step - loss: 17.8903 - root_mean_squared_error: 4.2297\n",
            "Epoch 31/70\n",
            "1/1 [==============================] - 0s 2ms/step - loss: 14.5866 - root_mean_squared_error: 3.8192\n",
            "Epoch 32/70\n",
            "1/1 [==============================] - 0s 2ms/step - loss: 11.8442 - root_mean_squared_error: 3.4415\n",
            "Epoch 33/70\n",
            "1/1 [==============================] - 0s 2ms/step - loss: 9.5924 - root_mean_squared_error: 3.0972\n",
            "Epoch 34/70\n",
            "1/1 [==============================] - 0s 2ms/step - loss: 7.7649 - root_mean_squared_error: 2.7866\n",
            "Epoch 35/70\n",
            "1/1 [==============================] - 0s 1ms/step - loss: 6.3003 - root_mean_squared_error: 2.5100\n",
            "Epoch 36/70\n",
            "1/1 [==============================] - 0s 1ms/step - loss: 5.1425 - root_mean_squared_error: 2.2677\n",
            "Epoch 37/70\n",
            "1/1 [==============================] - 0s 2ms/step - loss: 4.2403 - root_mean_squared_error: 2.0592\n",
            "Epoch 38/70\n",
            "1/1 [==============================] - 0s 2ms/step - loss: 3.5480 - root_mean_squared_error: 1.8836\n",
            "Epoch 39/70\n",
            "1/1 [==============================] - 0s 2ms/step - loss: 3.0254 - root_mean_squared_error: 1.7394\n",
            "Epoch 40/70\n",
            "1/1 [==============================] - 0s 1ms/step - loss: 2.6374 - root_mean_squared_error: 1.6240\n",
            "Epoch 41/70\n",
            "1/1 [==============================] - 0s 1ms/step - loss: 2.3542 - root_mean_squared_error: 1.5343\n",
            "Epoch 42/70\n",
            "1/1 [==============================] - 0s 1ms/step - loss: 2.1509 - root_mean_squared_error: 1.4666\n",
            "Epoch 43/70\n",
            "1/1 [==============================] - 0s 1ms/step - loss: 2.0072 - root_mean_squared_error: 1.4168\n",
            "Epoch 44/70\n",
            "1/1 [==============================] - 0s 1ms/step - loss: 1.9069 - root_mean_squared_error: 1.3809\n",
            "Epoch 45/70\n",
            "1/1 [==============================] - 0s 1ms/step - loss: 1.8371 - root_mean_squared_error: 1.3554\n",
            "Epoch 46/70\n",
            "1/1 [==============================] - 0s 1ms/step - loss: 1.7885 - root_mean_squared_error: 1.3373\n",
            "Epoch 47/70\n",
            "1/1 [==============================] - 0s 1ms/step - loss: 1.7537 - root_mean_squared_error: 1.3243\n",
            "Epoch 48/70\n",
            "1/1 [==============================] - 0s 1ms/step - loss: 1.7279 - root_mean_squared_error: 1.3145\n",
            "Epoch 49/70\n",
            "1/1 [==============================] - 0s 1ms/step - loss: 1.7076 - root_mean_squared_error: 1.3067\n",
            "Epoch 50/70\n",
            "1/1 [==============================] - 0s 1ms/step - loss: 1.6903 - root_mean_squared_error: 1.3001\n",
            "Epoch 51/70\n",
            "1/1 [==============================] - 0s 1ms/step - loss: 1.6747 - root_mean_squared_error: 1.2941\n",
            "Epoch 52/70\n",
            "1/1 [==============================] - 0s 1ms/step - loss: 1.6597 - root_mean_squared_error: 1.2883\n",
            "Epoch 53/70\n",
            "1/1 [==============================] - 0s 1ms/step - loss: 1.6449 - root_mean_squared_error: 1.2825\n",
            "Epoch 54/70\n",
            "1/1 [==============================] - 0s 1ms/step - loss: 1.6299 - root_mean_squared_error: 1.2767\n",
            "Epoch 55/70\n",
            "1/1 [==============================] - 0s 1ms/step - loss: 1.6146 - root_mean_squared_error: 1.2707\n",
            "Epoch 56/70\n",
            "1/1 [==============================] - 0s 1ms/step - loss: 1.5988 - root_mean_squared_error: 1.2645\n",
            "Epoch 57/70\n",
            "1/1 [==============================] - 0s 2ms/step - loss: 1.5827 - root_mean_squared_error: 1.2580\n",
            "Epoch 58/70\n",
            "1/1 [==============================] - 0s 1ms/step - loss: 1.5660 - root_mean_squared_error: 1.2514\n",
            "Epoch 59/70\n",
            "1/1 [==============================] - 0s 2ms/step - loss: 1.5489 - root_mean_squared_error: 1.2446\n",
            "Epoch 60/70\n",
            "1/1 [==============================] - 0s 1ms/step - loss: 1.5314 - root_mean_squared_error: 1.2375\n",
            "Epoch 61/70\n",
            "1/1 [==============================] - 0s 1ms/step - loss: 1.5134 - root_mean_squared_error: 1.2302\n",
            "Epoch 62/70\n",
            "1/1 [==============================] - 0s 1ms/step - loss: 1.4950 - root_mean_squared_error: 1.2227\n",
            "Epoch 63/70\n",
            "1/1 [==============================] - 0s 1ms/step - loss: 1.4761 - root_mean_squared_error: 1.2150\n",
            "Epoch 64/70\n",
            "1/1 [==============================] - 0s 1ms/step - loss: 1.4570 - root_mean_squared_error: 1.2070\n",
            "Epoch 65/70\n",
            "1/1 [==============================] - 0s 1ms/step - loss: 1.4374 - root_mean_squared_error: 1.1989\n",
            "Epoch 66/70\n",
            "1/1 [==============================] - 0s 2ms/step - loss: 1.4176 - root_mean_squared_error: 1.1906\n",
            "Epoch 67/70\n",
            "1/1 [==============================] - 0s 2ms/step - loss: 1.3974 - root_mean_squared_error: 1.1821\n",
            "Epoch 68/70\n",
            "1/1 [==============================] - 0s 1ms/step - loss: 1.3770 - root_mean_squared_error: 1.1735\n",
            "Epoch 69/70\n",
            "1/1 [==============================] - 0s 1ms/step - loss: 1.3564 - root_mean_squared_error: 1.1647\n",
            "Epoch 70/70\n",
            "1/1 [==============================] - 0s 1ms/step - loss: 1.3357 - root_mean_squared_error: 1.1557\n"
          ],
          "name": "stdout"
        },
        {
          "output_type": "display_data",
          "data": {
            "image/png": "[encoded data removed]",
            "text/plain": [
              "<Figure size 432x288 with 1 Axes>"
            ]
          },
          "metadata": {
            "tags": [],
            "needs_background": "light"
          }
        },
        {
          "output_type": "display_data",
          "data": {
            "image/png": "[encoded data removed]",
            "text/plain": [
              "<Figure size 432x288 with 1 Axes>"
            ]
          },
          "metadata": {
            "tags": [],
            "needs_background": "light"
          }
        }
      ]
    },
    {
      "cell_type": "code",
      "metadata": {
        "id": "G0jG18TEJ-mX",
        "colab_type": "code",
        "outputId": "dd5f2221-ad76-4489-b0ce-a23ecda3b60a",
        "colab": {
          "base_uri": "https://localhost:8080/",
          "height": 70
        }
      },
      "source": [
        "training_bias\n",
        "training_bias+training_weights*my_feature"
      ],
      "execution_count": 0,
      "outputs": [
        {
          "output_type": "execute_result",
          "data": {
            "text/plain": [
              "array([[ 6.3764441 ,  9.16130567, 11.94616723, 14.7310288 , 17.51589036,\n",
              "        20.30075192, 23.08561349, 25.87047505, 28.65533662, 31.44019818,\n",
              "        34.22505975, 37.00992131]])"
            ]
          },
          "metadata": {
            "tags": []
          },
          "execution_count": 26
        }
      ]
    },
    {
      "cell_type": "code",
      "metadata": {
        "id": "KRBSJB49eQvT",
        "colab_type": "code",
        "outputId": "725cd958-97aa-46f9-91ad-2366aaceb1e8",
        "colab": {
          "base_uri": "https://localhost:8080/",
          "height": 283
        }
      },
      "source": [
        "plt.scatter(my_feature, my_label)"
      ],
      "execution_count": 0,
      "outputs": [
        {
          "output_type": "execute_result",
          "data": {
            "text/plain": [
              "<matplotlib.collections.PathCollection at 0x7f5f418cad30>"
            ]
          },
          "metadata": {
            "tags": []
          },
          "execution_count": 27
        },
        {
          "output_type": "display_data",
          "data": {
            "image/png": "[encoded data removed]",
            "text/plain": [
              "<Figure size 432x288 with 1 Axes>"
            ]
          },
          "metadata": {
            "tags": [],
            "needs_background": "light"
          }
        }
      ]
    },
    {
      "cell_type": "markdown",
      "metadata": {
        "id": "bfjOfSgIhOu1",
        "colab_type": "text"
      },
      "source": [
        "Real world problem - California Housing Data"
      ]
    },
    {
      "cell_type": "code",
      "metadata": {
        "id": "QR4Jd8ip-Bw0",
        "colab_type": "code",
        "outputId": "232c58a0-3035-4452-f285-00e9dc6d9817",
        "colab": {
          "base_uri": "https://localhost:8080/",
          "height": 200
        }
      },
      "source": [
        "training_df = pd.read_csv(filepath_or_buffer=\"https://download.mlcc.google.com/mledu-datasets/california_housing_train.csv\")\n",
        "training_df.head()"
      ],
      "execution_count": 2,
      "outputs": [
        {
          "output_type": "execute_result",
          "data": {
            "text/html": [
              "<div>\n",
              "<style scoped>\n",
              "    .dataframe tbody tr th:only-of-type {\n",
              "        vertical-align: middle;\n",
              "    }\n",
              "\n",
              "    .dataframe tbody tr th {\n",
              "        vertical-align: top;\n",
              "    }\n",
              "\n",
              "    .dataframe thead th {\n",
              "        text-align: right;\n",
              "    }\n",
              "</style>\n",
              "<table border=\"1\" class=\"dataframe\">\n",
              "  <thead>\n",
              "    <tr style=\"text-align: right;\">\n",
              "      <th></th>\n",
              "      <th>longitude</th>\n",
              "      <th>latitude</th>\n",
              "      <th>housing_median_age</th>\n",
              "      <th>total_rooms</th>\n",
              "      <th>total_bedrooms</th>\n",
              "      <th>population</th>\n",
              "      <th>households</th>\n",
              "      <th>median_income</th>\n",
              "      <th>median_house_value</th>\n",
              "    </tr>\n",
              "  </thead>\n",
              "  <tbody>\n",
              "    <tr>\n",
              "      <th>0</th>\n",
              "      <td>-114.31</td>\n",
              "      <td>34.19</td>\n",
              "      <td>15.0</td>\n",
              "      <td>5612.0</td>\n",
              "      <td>1283.0</td>\n",
              "      <td>1015.0</td>\n",
              "      <td>472.0</td>\n",
              "      <td>1.4936</td>\n",
              "      <td>66900.0</td>\n",
              "    </tr>\n",
              "    <tr>\n",
              "      <th>1</th>\n",
              "      <td>-114.47</td>\n",
              "      <td>34.40</td>\n",
              "      <td>19.0</td>\n",
              "      <td>7650.0</td>\n",
              "      <td>1901.0</td>\n",
              "      <td>1129.0</td>\n",
              "      <td>463.0</td>\n",
              "      <td>1.8200</td>\n",
              "      <td>80100.0</td>\n",
              "    </tr>\n",
              "    <tr>\n",
              "      <th>2</th>\n",
              "      <td>-114.56</td>\n",
              "      <td>33.69</td>\n",
              "      <td>17.0</td>\n",
              "      <td>720.0</td>\n",
              "      <td>174.0</td>\n",
              "      <td>333.0</td>\n",
              "      <td>117.0</td>\n",
              "      <td>1.6509</td>\n",
              "      <td>85700.0</td>\n",
              "    </tr>\n",
              "    <tr>\n",
              "      <th>3</th>\n",
              "      <td>-114.57</td>\n",
              "      <td>33.64</td>\n",
              "      <td>14.0</td>\n",
              "      <td>1501.0</td>\n",
              "      <td>337.0</td>\n",
              "      <td>515.0</td>\n",
              "      <td>226.0</td>\n",
              "      <td>3.1917</td>\n",
              "      <td>73400.0</td>\n",
              "    </tr>\n",
              "    <tr>\n",
              "      <th>4</th>\n",
              "      <td>-114.57</td>\n",
              "      <td>33.57</td>\n",
              "      <td>20.0</td>\n",
              "      <td>1454.0</td>\n",
              "      <td>326.0</td>\n",
              "      <td>624.0</td>\n",
              "      <td>262.0</td>\n",
              "      <td>1.9250</td>\n",
              "      <td>65500.0</td>\n",
              "    </tr>\n",
              "  </tbody>\n",
              "</table>\n",
              "</div>"
            ],
            "text/plain": [
              "   longitude  latitude  ...  median_income  median_house_value\n",
              "0    -114.31     34.19  ...         1.4936             66900.0\n",
              "1    -114.47     34.40  ...         1.8200             80100.0\n",
              "2    -114.56     33.69  ...         1.6509             85700.0\n",
              "3    -114.57     33.64  ...         3.1917             73400.0\n",
              "4    -114.57     33.57  ...         1.9250             65500.0\n",
              "\n",
              "[5 rows x 9 columns]"
            ]
          },
          "metadata": {
            "tags": []
          },
          "execution_count": 2
        }
      ]
    },
    {
      "cell_type": "code",
      "metadata": {
        "id": "QTMIOQ__EdZi",
        "colab_type": "code",
        "outputId": "617fc2f2-c938-4503-8edc-5e30fda469f1",
        "colab": {
          "base_uri": "https://localhost:8080/",
          "height": 109
        }
      },
      "source": [
        "training_df['median_house_value']/=1000\n",
        "training_df.head(2)\n"
      ],
      "execution_count": 3,
      "outputs": [
        {
          "output_type": "execute_result",
          "data": {
            "text/html": [
              "<div>\n",
              "<style scoped>\n",
              "    .dataframe tbody tr th:only-of-type {\n",
              "        vertical-align: middle;\n",
              "    }\n",
              "\n",
              "    .dataframe tbody tr th {\n",
              "        vertical-align: top;\n",
              "    }\n",
              "\n",
              "    .dataframe thead th {\n",
              "        text-align: right;\n",
              "    }\n",
              "</style>\n",
              "<table border=\"1\" class=\"dataframe\">\n",
              "  <thead>\n",
              "    <tr style=\"text-align: right;\">\n",
              "      <th></th>\n",
              "      <th>longitude</th>\n",
              "      <th>latitude</th>\n",
              "      <th>housing_median_age</th>\n",
              "      <th>total_rooms</th>\n",
              "      <th>total_bedrooms</th>\n",
              "      <th>population</th>\n",
              "      <th>households</th>\n",
              "      <th>median_income</th>\n",
              "      <th>median_house_value</th>\n",
              "    </tr>\n",
              "  </thead>\n",
              "  <tbody>\n",
              "    <tr>\n",
              "      <th>0</th>\n",
              "      <td>-114.31</td>\n",
              "      <td>34.19</td>\n",
              "      <td>15.0</td>\n",
              "      <td>5612.0</td>\n",
              "      <td>1283.0</td>\n",
              "      <td>1015.0</td>\n",
              "      <td>472.0</td>\n",
              "      <td>1.4936</td>\n",
              "      <td>66.9</td>\n",
              "    </tr>\n",
              "    <tr>\n",
              "      <th>1</th>\n",
              "      <td>-114.47</td>\n",
              "      <td>34.40</td>\n",
              "      <td>19.0</td>\n",
              "      <td>7650.0</td>\n",
              "      <td>1901.0</td>\n",
              "      <td>1129.0</td>\n",
              "      <td>463.0</td>\n",
              "      <td>1.8200</td>\n",
              "      <td>80.1</td>\n",
              "    </tr>\n",
              "  </tbody>\n",
              "</table>\n",
              "</div>"
            ],
            "text/plain": [
              "   longitude  latitude  ...  median_income  median_house_value\n",
              "0    -114.31     34.19  ...         1.4936                66.9\n",
              "1    -114.47     34.40  ...         1.8200                80.1\n",
              "\n",
              "[2 rows x 9 columns]"
            ]
          },
          "metadata": {
            "tags": []
          },
          "execution_count": 3
        }
      ]
    },
    {
      "cell_type": "code",
      "metadata": {
        "id": "1WwZPXErJVMl",
        "colab_type": "code",
        "outputId": "645faf8a-8796-4be9-b4f2-7c016c4f6f49",
        "colab": {
          "base_uri": "https://localhost:8080/",
          "height": 291
        }
      },
      "source": [
        "df = training_df[['housing_median_age','median_income','population','median_house_value','total_rooms','total_bedrooms']]\n",
        "df.describe()\n"
      ],
      "execution_count": 4,
      "outputs": [
        {
          "output_type": "execute_result",
          "data": {
            "text/html": [
              "<div>\n",
              "<style scoped>\n",
              "    .dataframe tbody tr th:only-of-type {\n",
              "        vertical-align: middle;\n",
              "    }\n",
              "\n",
              "    .dataframe tbody tr th {\n",
              "        vertical-align: top;\n",
              "    }\n",
              "\n",
              "    .dataframe thead th {\n",
              "        text-align: right;\n",
              "    }\n",
              "</style>\n",
              "<table border=\"1\" class=\"dataframe\">\n",
              "  <thead>\n",
              "    <tr style=\"text-align: right;\">\n",
              "      <th></th>\n",
              "      <th>housing_median_age</th>\n",
              "      <th>median_income</th>\n",
              "      <th>population</th>\n",
              "      <th>median_house_value</th>\n",
              "      <th>total_rooms</th>\n",
              "      <th>total_bedrooms</th>\n",
              "    </tr>\n",
              "  </thead>\n",
              "  <tbody>\n",
              "    <tr>\n",
              "      <th>count</th>\n",
              "      <td>17000.000000</td>\n",
              "      <td>17000.000000</td>\n",
              "      <td>17000.000000</td>\n",
              "      <td>17000.000000</td>\n",
              "      <td>17000.000000</td>\n",
              "      <td>17000.000000</td>\n",
              "    </tr>\n",
              "    <tr>\n",
              "      <th>mean</th>\n",
              "      <td>28.589353</td>\n",
              "      <td>3.883578</td>\n",
              "      <td>1429.573941</td>\n",
              "      <td>207.300912</td>\n",
              "      <td>2643.664412</td>\n",
              "      <td>539.410824</td>\n",
              "    </tr>\n",
              "    <tr>\n",
              "      <th>std</th>\n",
              "      <td>12.586937</td>\n",
              "      <td>1.908157</td>\n",
              "      <td>1147.852959</td>\n",
              "      <td>115.983764</td>\n",
              "      <td>2179.947071</td>\n",
              "      <td>421.499452</td>\n",
              "    </tr>\n",
              "    <tr>\n",
              "      <th>min</th>\n",
              "      <td>1.000000</td>\n",
              "      <td>0.499900</td>\n",
              "      <td>3.000000</td>\n",
              "      <td>14.999000</td>\n",
              "      <td>2.000000</td>\n",
              "      <td>1.000000</td>\n",
              "    </tr>\n",
              "    <tr>\n",
              "      <th>25%</th>\n",
              "      <td>18.000000</td>\n",
              "      <td>2.566375</td>\n",
              "      <td>790.000000</td>\n",
              "      <td>119.400000</td>\n",
              "      <td>1462.000000</td>\n",
              "      <td>297.000000</td>\n",
              "    </tr>\n",
              "    <tr>\n",
              "      <th>50%</th>\n",
              "      <td>29.000000</td>\n",
              "      <td>3.544600</td>\n",
              "      <td>1167.000000</td>\n",
              "      <td>180.400000</td>\n",
              "      <td>2127.000000</td>\n",
              "      <td>434.000000</td>\n",
              "    </tr>\n",
              "    <tr>\n",
              "      <th>75%</th>\n",
              "      <td>37.000000</td>\n",
              "      <td>4.767000</td>\n",
              "      <td>1721.000000</td>\n",
              "      <td>265.000000</td>\n",
              "      <td>3151.250000</td>\n",
              "      <td>648.250000</td>\n",
              "    </tr>\n",
              "    <tr>\n",
              "      <th>max</th>\n",
              "      <td>52.000000</td>\n",
              "      <td>15.000100</td>\n",
              "      <td>35682.000000</td>\n",
              "      <td>500.001000</td>\n",
              "      <td>37937.000000</td>\n",
              "      <td>6445.000000</td>\n",
              "    </tr>\n",
              "  </tbody>\n",
              "</table>\n",
              "</div>"
            ],
            "text/plain": [
              "       housing_median_age  median_income  ...   total_rooms  total_bedrooms\n",
              "count        17000.000000   17000.000000  ...  17000.000000    17000.000000\n",
              "mean            28.589353       3.883578  ...   2643.664412      539.410824\n",
              "std             12.586937       1.908157  ...   2179.947071      421.499452\n",
              "min              1.000000       0.499900  ...      2.000000        1.000000\n",
              "25%             18.000000       2.566375  ...   1462.000000      297.000000\n",
              "50%             29.000000       3.544600  ...   2127.000000      434.000000\n",
              "75%             37.000000       4.767000  ...   3151.250000      648.250000\n",
              "max             52.000000      15.000100  ...  37937.000000     6445.000000\n",
              "\n",
              "[8 rows x 6 columns]"
            ]
          },
          "metadata": {
            "tags": []
          },
          "execution_count": 4
        }
      ]
    },
    {
      "cell_type": "code",
      "metadata": {
        "id": "_A90s-4PV5N9",
        "colab_type": "code",
        "outputId": "893663c1-f623-444e-ea62-cf24081d8194",
        "colab": {
          "base_uri": "https://localhost:8080/",
          "height": 336
        }
      },
      "source": [
        "plt.hist(training_df['housing_median_age'], density=True, color='orange' )"
      ],
      "execution_count": 5,
      "outputs": [
        {
          "output_type": "execute_result",
          "data": {
            "text/plain": [
              "(array([0.00675894, 0.01078431, 0.02121107, 0.0256286 , 0.02373702,\n",
              "        0.02236448, 0.0339677 , 0.01773933, 0.01523645, 0.01865052]),\n",
              " array([ 1. ,  6.1, 11.2, 16.3, 21.4, 26.5, 31.6, 36.7, 41.8, 46.9, 52. ]),\n",
              " <a list of 10 Patch objects>)"
            ]
          },
          "metadata": {
            "tags": []
          },
          "execution_count": 5
        },
        {
          "output_type": "display_data",
          "data": {
            "image/png": "[encoded data removed]",
            "text/plain": [
              "<Figure size 432x288 with 1 Axes>"
            ]
          },
          "metadata": {
            "tags": [],
            "needs_background": "light"
          }
        }
      ]
    },
    {
      "cell_type": "code",
      "metadata": {
        "id": "HXG3s_2r_R0I",
        "colab_type": "code",
        "outputId": "18dafe54-3967-46a2-af4c-11574054dff4",
        "colab": {
          "base_uri": "https://localhost:8080/",
          "height": 35
        }
      },
      "source": [
        "def build_model(my_learning_rate):\n",
        "  model = tf.keras.models.Sequential()\n",
        "  model.add(tf.keras.layers.Dense(units=1, input_shape=(1,)))\n",
        "  model.compile(optimizer=tf.keras.optimizers.RMSprop(learning_rate=my_learning_rate), loss='mean_squared_error', \n",
        "                metrics=[tf.keras.metrics.RootMeanSquaredError()])\n",
        "  return model\n",
        "def train_model(model, df, feature, label, epochs, batch_size):\n",
        "  history = model.fit(x=df[feature], y=df[label], batch_size=None, epochs=epochs)\n",
        "  training_weights = model.get_weights()[0]\n",
        "  training_bias = model.get_weights()[1]\n",
        "  epochs = history.epoch\n",
        "  hist = pd.DataFrame(history.history)\n",
        "  rmse = hist['root_mean_squared_error']\n",
        "  \n",
        "\n",
        "  return training_weights, training_bias, epochs, rmse, hist\n",
        "print('Defined creat_model train_model') \n",
        "\n"
      ],
      "execution_count": 0,
      "outputs": [
        {
          "output_type": "stream",
          "text": [
            "Defined creat_model train_model\n"
          ],
          "name": "stdout"
        }
      ]
    },
    {
      "cell_type": "code",
      "metadata": {
        "id": "Nw62YrTeQ-uq",
        "colab_type": "code",
        "colab": {}
      },
      "source": [
        "def plot_the_model(df, feature, label, training_weights, training_bias):\n",
        "  random_example = df.sample(n=200)\n",
        "  plt.scatter(random_example[feature], random_example[label], color='red')\n",
        "  x0 = 0\n",
        "  y0 = training_bias\n",
        "  x1 = 10000\n",
        "  y1 = training_bias+training_weights*x1\n",
        "  plt.plot([x0,x1], [y0,y1], color='blue')\n",
        "def plot_loss_function(epochs, rmse):\n",
        "  plt.plot(epochs, rmse) \n",
        "  plt.ylim(rmse.min(), rmse.max()*0.2) "
      ],
      "execution_count": 0,
      "outputs": []
    },
    {
      "cell_type": "code",
      "metadata": {
        "id": "DHUqMs_3RBjx",
        "colab_type": "code",
        "colab": {}
      },
      "source": [
        ""
      ],
      "execution_count": 0,
      "outputs": []
    },
    {
      "cell_type": "code",
      "metadata": {
        "id": "4Ve2t9cn2N-F",
        "colab_type": "code",
        "outputId": "572b5bb3-24cc-48ca-c41a-cf5d5a9e2ca1",
        "colab": {
          "base_uri": "https://localhost:8080/",
          "height": 1000
        }
      },
      "source": [
        "learning_rate = 0.01\n",
        "epochs = 30\n",
        "my_batch_size=30\n",
        "\n",
        "my_feature = 'total_rooms'\n",
        "my_label = 'median_house_value'\n",
        "\n",
        "my_model = None\n",
        "my_model = build_model(learning_rate)\n",
        "weight,bias,epochs,rmse,hist =train_model(my_model, training_df, my_feature, my_label, epochs, my_batch_size)\n",
        "print('\\n The learned weight of the model %.4f'%weight)\n",
        "print('\\n The learned bias of the model %.4f'%bias)"
      ],
      "execution_count": 0,
      "outputs": [
        {
          "output_type": "stream",
          "text": [
            "Epoch 1/30\n",
            "532/532 [==============================] - 1s 966us/step - loss: 2317431.5000 - root_mean_squared_error: 1523.3605\n",
            "Epoch 2/30\n",
            "532/532 [==============================] - 0s 938us/step - loss: 28411.2383 - root_mean_squared_error: 168.4261\n",
            "Epoch 3/30\n",
            "532/532 [==============================] - 0s 883us/step - loss: 27427.5430 - root_mean_squared_error: 165.6869\n",
            "Epoch 4/30\n",
            "532/532 [==============================] - 0s 905us/step - loss: 26816.0879 - root_mean_squared_error: 163.8127\n",
            "Epoch 5/30\n",
            "532/532 [==============================] - 0s 895us/step - loss: 25931.1426 - root_mean_squared_error: 161.0927\n",
            "Epoch 6/30\n",
            "532/532 [==============================] - 1s 962us/step - loss: 25649.0547 - root_mean_squared_error: 160.2258\n",
            "Epoch 7/30\n",
            "532/532 [==============================] - 0s 936us/step - loss: 24928.9043 - root_mean_squared_error: 157.8846\n",
            "Epoch 8/30\n",
            "532/532 [==============================] - 0s 911us/step - loss: 24101.6055 - root_mean_squared_error: 155.2980\n",
            "Epoch 9/30\n",
            "532/532 [==============================] - 0s 917us/step - loss: 23515.6172 - root_mean_squared_error: 153.4037\n",
            "Epoch 10/30\n",
            "532/532 [==============================] - 0s 927us/step - loss: 23122.6816 - root_mean_squared_error: 152.1050\n",
            "Epoch 11/30\n",
            "532/532 [==============================] - 0s 897us/step - loss: 22721.9961 - root_mean_squared_error: 150.7957\n",
            "Epoch 12/30\n",
            "532/532 [==============================] - 0s 909us/step - loss: 21911.9199 - root_mean_squared_error: 148.0565\n",
            "Epoch 13/30\n",
            "532/532 [==============================] - 0s 900us/step - loss: 21498.9688 - root_mean_squared_error: 146.6033\n",
            "Epoch 14/30\n",
            "532/532 [==============================] - 1s 951us/step - loss: 20773.5625 - root_mean_squared_error: 144.2016\n",
            "Epoch 15/30\n",
            "532/532 [==============================] - 0s 931us/step - loss: 20353.6777 - root_mean_squared_error: 142.7214\n",
            "Epoch 16/30\n",
            "532/532 [==============================] - 0s 931us/step - loss: 20133.7852 - root_mean_squared_error: 141.9111\n",
            "Epoch 17/30\n",
            "532/532 [==============================] - 0s 884us/step - loss: 19797.3809 - root_mean_squared_error: 140.5551\n",
            "Epoch 18/30\n",
            "532/532 [==============================] - 0s 920us/step - loss: 19226.1016 - root_mean_squared_error: 138.7285\n",
            "Epoch 19/30\n",
            "532/532 [==============================] - 1s 993us/step - loss: 18895.1562 - root_mean_squared_error: 137.3848\n",
            "Epoch 20/30\n",
            "532/532 [==============================] - 1s 953us/step - loss: 18405.4609 - root_mean_squared_error: 135.6737\n",
            "Epoch 21/30\n",
            "532/532 [==============================] - 0s 897us/step - loss: 18084.5195 - root_mean_squared_error: 134.4606\n",
            "Epoch 22/30\n",
            "532/532 [==============================] - 1s 985us/step - loss: 17720.4434 - root_mean_squared_error: 133.1776\n",
            "Epoch 23/30\n",
            "532/532 [==============================] - 0s 908us/step - loss: 17315.8730 - root_mean_squared_error: 131.6037\n",
            "Epoch 24/30\n",
            "532/532 [==============================] - 0s 904us/step - loss: 17089.3398 - root_mean_squared_error: 130.7527\n",
            "Epoch 25/30\n",
            "532/532 [==============================] - 0s 896us/step - loss: 16708.1133 - root_mean_squared_error: 129.1629\n",
            "Epoch 26/30\n",
            "532/532 [==============================] - 0s 908us/step - loss: 16595.7852 - root_mean_squared_error: 128.8860\n",
            "Epoch 27/30\n",
            "532/532 [==============================] - 0s 889us/step - loss: 16382.4473 - root_mean_squared_error: 128.0481\n",
            "Epoch 28/30\n",
            "532/532 [==============================] - 0s 930us/step - loss: 16156.5674 - root_mean_squared_error: 127.1396\n",
            "Epoch 29/30\n",
            "532/532 [==============================] - 0s 917us/step - loss: 15804.5586 - root_mean_squared_error: 125.7869\n",
            "Epoch 30/30\n",
            "532/532 [==============================] - 0s 938us/step - loss: 15573.2412 - root_mean_squared_error: 124.8440\n",
            "\n",
            " The learned weight of the model 0.0231\n",
            "\n",
            " The learned bias of the model 124.8373\n"
          ],
          "name": "stdout"
        }
      ]
    },
    {
      "cell_type": "code",
      "metadata": {
        "id": "nbSV72VhVAKy",
        "colab_type": "code",
        "outputId": "460b8a61-371b-4010-fac9-f3f66a06b5e1",
        "colab": {
          "base_uri": "https://localhost:8080/",
          "height": 265
        }
      },
      "source": [
        "plot_the_model(training_df, 'total_rooms','median_house_value', weight, bias)"
      ],
      "execution_count": 0,
      "outputs": [
        {
          "output_type": "display_data",
          "data": {
            "image/png": "[encoded data removed]",
            "text/plain": [
              "<Figure size 432x288 with 1 Axes>"
            ]
          },
          "metadata": {
            "tags": [],
            "needs_background": "light"
          }
        }
      ]
    },
    {
      "cell_type": "code",
      "metadata": {
        "id": "pCzPk0twbK7O",
        "colab_type": "code",
        "outputId": "50dab630-d6e8-42cf-ffb0-d21c113a4b26",
        "colab": {
          "base_uri": "https://localhost:8080/",
          "height": 265
        }
      },
      "source": [
        "plot_loss_function(epochs, rmse)"
      ],
      "execution_count": 0,
      "outputs": [
        {
          "output_type": "display_data",
          "data": {
            "image/png": "[encoded data removed]",
            "text/plain": [
              "<Figure size 432x288 with 1 Axes>"
            ]
          },
          "metadata": {
            "tags": [],
            "needs_background": "light"
          }
        }
      ]
    },
    {
      "cell_type": "code",
      "metadata": {
        "id": "HA8j9erHj9VT",
        "colab_type": "code",
        "outputId": "618c6e77-724d-415b-f2fe-9c7086b4fefe",
        "colab": {
          "base_uri": "https://localhost:8080/",
          "height": 52
        }
      },
      "source": [
        "#x = training_df['total_rooms'][1]\n",
        "#batch = training_df['total_rooms'][10000:10008]\n",
        "#batch.index.to_list()\n",
        "print(5612)\n",
        "my_model.predict([x])\n"
      ],
      "execution_count": 0,
      "outputs": [
        {
          "output_type": "stream",
          "text": [
            "5612\n"
          ],
          "name": "stdout"
        },
        {
          "output_type": "execute_result",
          "data": {
            "text/plain": [
              "array([[301.80417]], dtype=float32)"
            ]
          },
          "metadata": {
            "tags": []
          },
          "execution_count": 122
        }
      ]
    },
    {
      "cell_type": "code",
      "metadata": {
        "id": "PBXP8Fvj5dKk",
        "colab_type": "code",
        "colab": {}
      },
      "source": [
        "def predict_house_values(n,feature,label):\n",
        "  batch = training_df[feature][10000:10000+n]\n",
        "  predicted_values = my_model.predict_on_batch(x=batch)\n",
        "  indx = (batch.index).to_list()\n",
        "  print('feature      label        predicted')\n",
        "  print('---------------------------------------------')\n",
        "  for i,j in zip(indx,range(n)):\n",
        "    print('%5.0f %9.0f %15.0f'%(training_df[feature][i],training_df[label][i],predicted_values[j]))"
      ],
      "execution_count": 0,
      "outputs": []
    },
    {
      "cell_type": "code",
      "metadata": {
        "id": "AcSC44gD84cb",
        "colab_type": "code",
        "outputId": "b8edda09-929a-400f-f5e0-824d52ef1a7c",
        "colab": {
          "base_uri": "https://localhost:8080/",
          "height": 230
        }
      },
      "source": [
        "predict_house_values(10,'total_rooms','median_house_value')"
      ],
      "execution_count": 0,
      "outputs": [
        {
          "output_type": "stream",
          "text": [
            "feature      label        predicted\n",
            "---------------------------------------------\n",
            " 1960        53             170\n",
            " 3400        92             203\n",
            " 3677        69             210\n",
            " 2202        62             176\n",
            " 2403        80             180\n",
            " 5652       295             256\n",
            " 3318       500             202\n",
            " 2552       342             184\n",
            " 1364       118             156\n",
            " 3468       128             205\n"
          ],
          "name": "stdout"
        }
      ]
    },
    {
      "cell_type": "markdown",
      "metadata": {
        "id": "QfBNIClOtsgT",
        "colab_type": "text"
      },
      "source": [
        "Correlation :"
      ]
    },
    {
      "cell_type": "code",
      "metadata": {
        "id": "AwX1_AW4_GYJ",
        "colab_type": "code",
        "outputId": "3d20d4af-f3ea-495e-865c-6bceb7163a99",
        "colab": {
          "base_uri": "https://localhost:8080/",
          "height": 88
        }
      },
      "source": [
        ""
      ],
      "execution_count": 0,
      "outputs": [
        {
          "output_type": "stream",
          "text": [
            "0 10\n",
            "1 11\n",
            "2 12\n",
            "3 13\n"
          ],
          "name": "stdout"
        }
      ]
    }
  ]
}